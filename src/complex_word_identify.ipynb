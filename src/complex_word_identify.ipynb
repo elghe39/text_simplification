{
 "cells": [
  {
   "cell_type": "code",
   "execution_count": 1,
   "metadata": {
    "collapsed": true
   },
   "outputs": [],
   "source": [
    "import pandas as pd\n",
    "import numpy as np\n",
    "import matplotlib.pyplot as plt\n",
    "import seaborn as sns\n",
    "from collections import namedtuple\n",
    "from functools import lru_cache\n",
    "import re\n",
    "import unicodedata\n",
    "import sys\n",
    "from collections import Counter\n",
    "from nltk.corpus import brown\n",
    "from nltk import word_tokenize"
   ]
  },
  {
   "cell_type": "code",
   "execution_count": 2,
   "outputs": [],
   "source": [
    "Dataset = namedtuple('Dataset', 'name, train, test')\n",
    "Model = namedtuple('Model', 'type, name, dimension, corpus, model')"
   ],
   "metadata": {
    "collapsed": false
   }
  },
  {
   "cell_type": "code",
   "execution_count": 3,
   "outputs": [],
   "source": [
    "pd.set_option('display.max_columns', 500)\n",
    "pd.set_option('display.max_colwidth', 200)\n",
    "MAIN_PATH_DATASET = '../dataset/cwishareddataset/'\n",
    "genres = ['Wikipedia', 'WikiNews', 'News']\n",
    "columns = ['id', 'sentence', \"start\", \"end\", \"target\",  \"nat\", \"non_nat\", \"nat_marked\", \"non_nat_marked\", \"binary\", \"prob\"]\n",
    "\n",
    "\n",
    "datasets = [Dataset('Wikipedia', 'Train', 'Dev'),\n",
    "            Dataset('WikiNews', 'Train', 'Dev'),\n",
    "            Dataset('News', 'Train', 'Dev')]\n",
    "\n",
    "feature_categories = []\n",
    "\n",
    "def load_df(path):\n",
    "    df = pd.read_csv(path, header=None, sep = \"\\t\")\n",
    "    df.columns = columns\n",
    "    return df\n",
    "\n",
    "datasets = [Dataset(d.name, load_df(MAIN_PATH_DATASET + d.name + '_' + d.train + '.tsv'),\n",
    "                            load_df(MAIN_PATH_DATASET + d.name + '_' + d.test + '.tsv'))\n",
    "                            for d in datasets]"
   ],
   "metadata": {
    "collapsed": false
   }
  },
  {
   "cell_type": "code",
   "execution_count": 4,
   "outputs": [
    {
     "data": {
      "text/plain": "                                  id  \\\n0     3XU9MCX6VODXPI3L8I02CM94TFB2R7   \n1     3XU9MCX6VODXPI3L8I02CM94TFB2R7   \n2     3XU9MCX6VODXPI3L8I02CM94TFB2R7   \n3     3XU9MCX6VODXPI3L8I02CM94TFB2R7   \n4     3XU9MCX6VODXPI3L8I02CM94TFB2R7   \n...                              ...   \n5546  3ZUE82NE0A2B8701X4995O8OCRS8FL   \n5547  3ZUE82NE0A2B8701X4995O8OCRS8FL   \n5548  3ZUE82NE0A2B8701X4995O8OCRS8FL   \n5549  3ZUE82NE0A2B8701X4995O8OCRS8FL   \n5550  3ZUE82NE0A2B8701X4995O8OCRS8FL   \n\n                                                                                                                                                                                           sentence  \\\n0                                                  Normally , the land will be passed down to future generations in a way that recognizes the community 's traditional connection to that country .   \n1                                                  Normally , the land will be passed down to future generations in a way that recognizes the community 's traditional connection to that country .   \n2                                                  Normally , the land will be passed down to future generations in a way that recognizes the community 's traditional connection to that country .   \n3                                                  Normally , the land will be passed down to future generations in a way that recognizes the community 's traditional connection to that country .   \n4                                                  Normally , the land will be passed down to future generations in a way that recognizes the community 's traditional connection to that country .   \n...                                                                                                                                                                                             ...   \n5546  An actor ( sometimes actress for female ; see terminology ) is a person who acts in a dramatic or comic production and who works in film , television , theater , or radio in that capacity .   \n5547  An actor ( sometimes actress for female ; see terminology ) is a person who acts in a dramatic or comic production and who works in film , television , theater , or radio in that capacity .   \n5548  An actor ( sometimes actress for female ; see terminology ) is a person who acts in a dramatic or comic production and who works in film , television , theater , or radio in that capacity .   \n5549  An actor ( sometimes actress for female ; see terminology ) is a person who acts in a dramatic or comic production and who works in film , television , theater , or radio in that capacity .   \n5550  An actor ( sometimes actress for female ; see terminology ) is a person who acts in a dramatic or comic production and who works in film , television , theater , or radio in that capacity .   \n\n      start  end              target  nat  non_nat  nat_marked  \\\n0         0    8            Normally   10       10           0   \n1        28   34              passed   10       10           0   \n2        15   19                land   10       10           0   \n3        43   49              future   10       10           1   \n4        43   61  future generations   10       10           1   \n...     ...  ...                 ...  ...      ...         ...   \n5546    123  128               works   10       10           0   \n5547    132  136                film   10       10           0   \n5548    139  149          television   10       10           0   \n5549    152  159             theater   10       10           0   \n5550    165  170               radio   10       10           0   \n\n      non_nat_marked  binary  prob  \n0                  1       1  0.05  \n1                  1       1  0.05  \n2                  0       0  0.00  \n3                  0       1  0.05  \n4                  2       1  0.15  \n...              ...     ...   ...  \n5546               0       0  0.00  \n5547               0       0  0.00  \n5548               0       0  0.00  \n5549               0       0  0.00  \n5550               0       0  0.00  \n\n[5551 rows x 11 columns]",
      "text/html": "<div>\n<style scoped>\n    .dataframe tbody tr th:only-of-type {\n        vertical-align: middle;\n    }\n\n    .dataframe tbody tr th {\n        vertical-align: top;\n    }\n\n    .dataframe thead th {\n        text-align: right;\n    }\n</style>\n<table border=\"1\" class=\"dataframe\">\n  <thead>\n    <tr style=\"text-align: right;\">\n      <th></th>\n      <th>id</th>\n      <th>sentence</th>\n      <th>start</th>\n      <th>end</th>\n      <th>target</th>\n      <th>nat</th>\n      <th>non_nat</th>\n      <th>nat_marked</th>\n      <th>non_nat_marked</th>\n      <th>binary</th>\n      <th>prob</th>\n    </tr>\n  </thead>\n  <tbody>\n    <tr>\n      <th>0</th>\n      <td>3XU9MCX6VODXPI3L8I02CM94TFB2R7</td>\n      <td>Normally , the land will be passed down to future generations in a way that recognizes the community 's traditional connection to that country .</td>\n      <td>0</td>\n      <td>8</td>\n      <td>Normally</td>\n      <td>10</td>\n      <td>10</td>\n      <td>0</td>\n      <td>1</td>\n      <td>1</td>\n      <td>0.05</td>\n    </tr>\n    <tr>\n      <th>1</th>\n      <td>3XU9MCX6VODXPI3L8I02CM94TFB2R7</td>\n      <td>Normally , the land will be passed down to future generations in a way that recognizes the community 's traditional connection to that country .</td>\n      <td>28</td>\n      <td>34</td>\n      <td>passed</td>\n      <td>10</td>\n      <td>10</td>\n      <td>0</td>\n      <td>1</td>\n      <td>1</td>\n      <td>0.05</td>\n    </tr>\n    <tr>\n      <th>2</th>\n      <td>3XU9MCX6VODXPI3L8I02CM94TFB2R7</td>\n      <td>Normally , the land will be passed down to future generations in a way that recognizes the community 's traditional connection to that country .</td>\n      <td>15</td>\n      <td>19</td>\n      <td>land</td>\n      <td>10</td>\n      <td>10</td>\n      <td>0</td>\n      <td>0</td>\n      <td>0</td>\n      <td>0.00</td>\n    </tr>\n    <tr>\n      <th>3</th>\n      <td>3XU9MCX6VODXPI3L8I02CM94TFB2R7</td>\n      <td>Normally , the land will be passed down to future generations in a way that recognizes the community 's traditional connection to that country .</td>\n      <td>43</td>\n      <td>49</td>\n      <td>future</td>\n      <td>10</td>\n      <td>10</td>\n      <td>1</td>\n      <td>0</td>\n      <td>1</td>\n      <td>0.05</td>\n    </tr>\n    <tr>\n      <th>4</th>\n      <td>3XU9MCX6VODXPI3L8I02CM94TFB2R7</td>\n      <td>Normally , the land will be passed down to future generations in a way that recognizes the community 's traditional connection to that country .</td>\n      <td>43</td>\n      <td>61</td>\n      <td>future generations</td>\n      <td>10</td>\n      <td>10</td>\n      <td>1</td>\n      <td>2</td>\n      <td>1</td>\n      <td>0.15</td>\n    </tr>\n    <tr>\n      <th>...</th>\n      <td>...</td>\n      <td>...</td>\n      <td>...</td>\n      <td>...</td>\n      <td>...</td>\n      <td>...</td>\n      <td>...</td>\n      <td>...</td>\n      <td>...</td>\n      <td>...</td>\n      <td>...</td>\n    </tr>\n    <tr>\n      <th>5546</th>\n      <td>3ZUE82NE0A2B8701X4995O8OCRS8FL</td>\n      <td>An actor ( sometimes actress for female ; see terminology ) is a person who acts in a dramatic or comic production and who works in film , television , theater , or radio in that capacity .</td>\n      <td>123</td>\n      <td>128</td>\n      <td>works</td>\n      <td>10</td>\n      <td>10</td>\n      <td>0</td>\n      <td>0</td>\n      <td>0</td>\n      <td>0.00</td>\n    </tr>\n    <tr>\n      <th>5547</th>\n      <td>3ZUE82NE0A2B8701X4995O8OCRS8FL</td>\n      <td>An actor ( sometimes actress for female ; see terminology ) is a person who acts in a dramatic or comic production and who works in film , television , theater , or radio in that capacity .</td>\n      <td>132</td>\n      <td>136</td>\n      <td>film</td>\n      <td>10</td>\n      <td>10</td>\n      <td>0</td>\n      <td>0</td>\n      <td>0</td>\n      <td>0.00</td>\n    </tr>\n    <tr>\n      <th>5548</th>\n      <td>3ZUE82NE0A2B8701X4995O8OCRS8FL</td>\n      <td>An actor ( sometimes actress for female ; see terminology ) is a person who acts in a dramatic or comic production and who works in film , television , theater , or radio in that capacity .</td>\n      <td>139</td>\n      <td>149</td>\n      <td>television</td>\n      <td>10</td>\n      <td>10</td>\n      <td>0</td>\n      <td>0</td>\n      <td>0</td>\n      <td>0.00</td>\n    </tr>\n    <tr>\n      <th>5549</th>\n      <td>3ZUE82NE0A2B8701X4995O8OCRS8FL</td>\n      <td>An actor ( sometimes actress for female ; see terminology ) is a person who acts in a dramatic or comic production and who works in film , television , theater , or radio in that capacity .</td>\n      <td>152</td>\n      <td>159</td>\n      <td>theater</td>\n      <td>10</td>\n      <td>10</td>\n      <td>0</td>\n      <td>0</td>\n      <td>0</td>\n      <td>0.00</td>\n    </tr>\n    <tr>\n      <th>5550</th>\n      <td>3ZUE82NE0A2B8701X4995O8OCRS8FL</td>\n      <td>An actor ( sometimes actress for female ; see terminology ) is a person who acts in a dramatic or comic production and who works in film , television , theater , or radio in that capacity .</td>\n      <td>165</td>\n      <td>170</td>\n      <td>radio</td>\n      <td>10</td>\n      <td>10</td>\n      <td>0</td>\n      <td>0</td>\n      <td>0</td>\n      <td>0.00</td>\n    </tr>\n  </tbody>\n</table>\n<p>5551 rows × 11 columns</p>\n</div>"
     },
     "execution_count": 4,
     "metadata": {},
     "output_type": "execute_result"
    }
   ],
   "source": [
    "datasets[0].train"
   ],
   "metadata": {
    "collapsed": false
   }
  },
  {
   "cell_type": "code",
   "execution_count": 5,
   "outputs": [
    {
     "data": {
      "text/plain": "                                 id  \\\n0    3QI9WAYOGQCX8YMZA9CAS9VCVMWS62   \n1    3QI9WAYOGQCX8YMZA9CAS9VCVMWS62   \n2    3QI9WAYOGQCX8YMZA9CAS9VCVMWS62   \n3    3QI9WAYOGQCX8YMZA9CAS9VCVMWS62   \n4    3QI9WAYOGQCX8YMZA9CAS9VCVMWS62   \n..                              ...   \n689  3W0KKJIARRAMOTSFYF06L10TKN9K8Z   \n690  3W0KKJIARRAMOTSFYF06L10TKN9K8Z   \n691  3W0KKJIARRAMOTSFYF06L10TKN9K8Z   \n692  3W0KKJIARRAMOTSFYF06L10TKN9K8Z   \n693  3W0KKJIARRAMOTSFYF06L10TKN9K8Z   \n\n                                                                                                                                                             sentence  \\\n0    The tail of Epidexipteryx also bore unusual vertebrae towards the tip which resembled the feather-anchoring pygostyle of modern birds and some oviraptorosaurs .   \n1    The tail of Epidexipteryx also bore unusual vertebrae towards the tip which resembled the feather-anchoring pygostyle of modern birds and some oviraptorosaurs .   \n2    The tail of Epidexipteryx also bore unusual vertebrae towards the tip which resembled the feather-anchoring pygostyle of modern birds and some oviraptorosaurs .   \n3    The tail of Epidexipteryx also bore unusual vertebrae towards the tip which resembled the feather-anchoring pygostyle of modern birds and some oviraptorosaurs .   \n4    The tail of Epidexipteryx also bore unusual vertebrae towards the tip which resembled the feather-anchoring pygostyle of modern birds and some oviraptorosaurs .   \n..                                                                                                                                                                ...   \n689                             Devotion ( Bhakti ) will cancel the effects of bad Karma and will bring a person closer to the true knowledge by purifying his mind .   \n690                             Devotion ( Bhakti ) will cancel the effects of bad Karma and will bring a person closer to the true knowledge by purifying his mind .   \n691                             Devotion ( Bhakti ) will cancel the effects of bad Karma and will bring a person closer to the true knowledge by purifying his mind .   \n692                             Devotion ( Bhakti ) will cancel the effects of bad Karma and will bring a person closer to the true knowledge by purifying his mind .   \n693                             Devotion ( Bhakti ) will cancel the effects of bad Karma and will bring a person closer to the true knowledge by purifying his mind .   \n\n     start  end                  target  nat  non_nat  nat_marked  \\\n0        4    8                    tail   10       10           0   \n1       12   25           Epidexipteryx   10       10           6   \n2       31   35                    bore   10       10           0   \n3       31   53  bore unusual vertebrae   10       10           0   \n4       36   53       unusual vertebrae   10       10           2   \n..     ...  ...                     ...  ...      ...         ...   \n689    100  109               knowledge   10       10           0   \n690     74   80                  person   10       10           0   \n691     95   99                    true   10       10           0   \n692    113  122               purifying   10       10           7   \n693    127  131                    mind   10       10           0   \n\n     non_nat_marked  binary  prob  \n0                 2       1  0.10  \n1                 3       1  0.45  \n2                 3       1  0.15  \n3                 1       1  0.05  \n4                 0       1  0.10  \n..              ...     ...   ...  \n689               2       1  0.10  \n690               0       0  0.00  \n691               0       0  0.00  \n692               8       1  0.75  \n693               1       1  0.05  \n\n[694 rows x 11 columns]",
      "text/html": "<div>\n<style scoped>\n    .dataframe tbody tr th:only-of-type {\n        vertical-align: middle;\n    }\n\n    .dataframe tbody tr th {\n        vertical-align: top;\n    }\n\n    .dataframe thead th {\n        text-align: right;\n    }\n</style>\n<table border=\"1\" class=\"dataframe\">\n  <thead>\n    <tr style=\"text-align: right;\">\n      <th></th>\n      <th>id</th>\n      <th>sentence</th>\n      <th>start</th>\n      <th>end</th>\n      <th>target</th>\n      <th>nat</th>\n      <th>non_nat</th>\n      <th>nat_marked</th>\n      <th>non_nat_marked</th>\n      <th>binary</th>\n      <th>prob</th>\n    </tr>\n  </thead>\n  <tbody>\n    <tr>\n      <th>0</th>\n      <td>3QI9WAYOGQCX8YMZA9CAS9VCVMWS62</td>\n      <td>The tail of Epidexipteryx also bore unusual vertebrae towards the tip which resembled the feather-anchoring pygostyle of modern birds and some oviraptorosaurs .</td>\n      <td>4</td>\n      <td>8</td>\n      <td>tail</td>\n      <td>10</td>\n      <td>10</td>\n      <td>0</td>\n      <td>2</td>\n      <td>1</td>\n      <td>0.10</td>\n    </tr>\n    <tr>\n      <th>1</th>\n      <td>3QI9WAYOGQCX8YMZA9CAS9VCVMWS62</td>\n      <td>The tail of Epidexipteryx also bore unusual vertebrae towards the tip which resembled the feather-anchoring pygostyle of modern birds and some oviraptorosaurs .</td>\n      <td>12</td>\n      <td>25</td>\n      <td>Epidexipteryx</td>\n      <td>10</td>\n      <td>10</td>\n      <td>6</td>\n      <td>3</td>\n      <td>1</td>\n      <td>0.45</td>\n    </tr>\n    <tr>\n      <th>2</th>\n      <td>3QI9WAYOGQCX8YMZA9CAS9VCVMWS62</td>\n      <td>The tail of Epidexipteryx also bore unusual vertebrae towards the tip which resembled the feather-anchoring pygostyle of modern birds and some oviraptorosaurs .</td>\n      <td>31</td>\n      <td>35</td>\n      <td>bore</td>\n      <td>10</td>\n      <td>10</td>\n      <td>0</td>\n      <td>3</td>\n      <td>1</td>\n      <td>0.15</td>\n    </tr>\n    <tr>\n      <th>3</th>\n      <td>3QI9WAYOGQCX8YMZA9CAS9VCVMWS62</td>\n      <td>The tail of Epidexipteryx also bore unusual vertebrae towards the tip which resembled the feather-anchoring pygostyle of modern birds and some oviraptorosaurs .</td>\n      <td>31</td>\n      <td>53</td>\n      <td>bore unusual vertebrae</td>\n      <td>10</td>\n      <td>10</td>\n      <td>0</td>\n      <td>1</td>\n      <td>1</td>\n      <td>0.05</td>\n    </tr>\n    <tr>\n      <th>4</th>\n      <td>3QI9WAYOGQCX8YMZA9CAS9VCVMWS62</td>\n      <td>The tail of Epidexipteryx also bore unusual vertebrae towards the tip which resembled the feather-anchoring pygostyle of modern birds and some oviraptorosaurs .</td>\n      <td>36</td>\n      <td>53</td>\n      <td>unusual vertebrae</td>\n      <td>10</td>\n      <td>10</td>\n      <td>2</td>\n      <td>0</td>\n      <td>1</td>\n      <td>0.10</td>\n    </tr>\n    <tr>\n      <th>...</th>\n      <td>...</td>\n      <td>...</td>\n      <td>...</td>\n      <td>...</td>\n      <td>...</td>\n      <td>...</td>\n      <td>...</td>\n      <td>...</td>\n      <td>...</td>\n      <td>...</td>\n      <td>...</td>\n    </tr>\n    <tr>\n      <th>689</th>\n      <td>3W0KKJIARRAMOTSFYF06L10TKN9K8Z</td>\n      <td>Devotion ( Bhakti ) will cancel the effects of bad Karma and will bring a person closer to the true knowledge by purifying his mind .</td>\n      <td>100</td>\n      <td>109</td>\n      <td>knowledge</td>\n      <td>10</td>\n      <td>10</td>\n      <td>0</td>\n      <td>2</td>\n      <td>1</td>\n      <td>0.10</td>\n    </tr>\n    <tr>\n      <th>690</th>\n      <td>3W0KKJIARRAMOTSFYF06L10TKN9K8Z</td>\n      <td>Devotion ( Bhakti ) will cancel the effects of bad Karma and will bring a person closer to the true knowledge by purifying his mind .</td>\n      <td>74</td>\n      <td>80</td>\n      <td>person</td>\n      <td>10</td>\n      <td>10</td>\n      <td>0</td>\n      <td>0</td>\n      <td>0</td>\n      <td>0.00</td>\n    </tr>\n    <tr>\n      <th>691</th>\n      <td>3W0KKJIARRAMOTSFYF06L10TKN9K8Z</td>\n      <td>Devotion ( Bhakti ) will cancel the effects of bad Karma and will bring a person closer to the true knowledge by purifying his mind .</td>\n      <td>95</td>\n      <td>99</td>\n      <td>true</td>\n      <td>10</td>\n      <td>10</td>\n      <td>0</td>\n      <td>0</td>\n      <td>0</td>\n      <td>0.00</td>\n    </tr>\n    <tr>\n      <th>692</th>\n      <td>3W0KKJIARRAMOTSFYF06L10TKN9K8Z</td>\n      <td>Devotion ( Bhakti ) will cancel the effects of bad Karma and will bring a person closer to the true knowledge by purifying his mind .</td>\n      <td>113</td>\n      <td>122</td>\n      <td>purifying</td>\n      <td>10</td>\n      <td>10</td>\n      <td>7</td>\n      <td>8</td>\n      <td>1</td>\n      <td>0.75</td>\n    </tr>\n    <tr>\n      <th>693</th>\n      <td>3W0KKJIARRAMOTSFYF06L10TKN9K8Z</td>\n      <td>Devotion ( Bhakti ) will cancel the effects of bad Karma and will bring a person closer to the true knowledge by purifying his mind .</td>\n      <td>127</td>\n      <td>131</td>\n      <td>mind</td>\n      <td>10</td>\n      <td>10</td>\n      <td>0</td>\n      <td>1</td>\n      <td>1</td>\n      <td>0.05</td>\n    </tr>\n  </tbody>\n</table>\n<p>694 rows × 11 columns</p>\n</div>"
     },
     "execution_count": 5,
     "metadata": {},
     "output_type": "execute_result"
    }
   ],
   "source": [
    "datasets[0].test"
   ],
   "metadata": {
    "collapsed": false
   }
  },
  {
   "cell_type": "markdown",
   "source": [
    "Load embedding model:"
   ],
   "metadata": {
    "collapsed": false
   }
  },
  {
   "cell_type": "code",
   "execution_count": 6,
   "outputs": [
    {
     "name": "stderr",
     "output_type": "stream",
     "text": [
      "/tmp/ipykernel_39535/3443068647.py:14: DeprecationWarning: Call to deprecated `glove2word2vec` (KeyedVectors.load_word2vec_format(.., binary=False, no_header=True) loads GLoVE text vectors.).\n",
      "  glove2word2vec(glove_file, tmp_file)\n"
     ]
    },
    {
     "name": "stdout",
     "output_type": "stream",
     "text": [
      "load model : glove.6B.300d.txt\n"
     ]
    },
    {
     "data": {
      "text/plain": "[Model(type='glove', name='glove.6B.300d.txt', dimension=300, corpus='wikipedia+gigaword5', model=<gensim.models.keyedvectors.KeyedVectors object at 0x7f82407cd570>)]"
     },
     "execution_count": 6,
     "metadata": {},
     "output_type": "execute_result"
    }
   ],
   "source": [
    "from gensim.test.utils import get_tmpfile\n",
    "from gensim.models import KeyedVectors\n",
    "from gensim.scripts.glove2word2vec import glove2word2vec\n",
    "\n",
    "MAIN_PATH = '../model/embeddings/'\n",
    "\n",
    "glove_models = []\n",
    "\n",
    "glove_defs = [ Model('glove', 'glove.6B.300d.txt', 300, 'wikipedia+gigaword5', None)]\n",
    "\n",
    "for model in glove_defs:\n",
    "    glove_file = MAIN_PATH + model.name\n",
    "    tmp_file = get_tmpfile(model.name + '-temp')\n",
    "    glove2word2vec(glove_file, tmp_file)\n",
    "    vecs = KeyedVectors.load_word2vec_format(tmp_file)\n",
    "    glove_models.append(Model(model.type, model.name, model.dimension, model.corpus, vecs))\n",
    "    print('load model : {}'.format(model.name))\n",
    "\n",
    "glove_models"
   ],
   "metadata": {
    "collapsed": false
   }
  },
  {
   "cell_type": "markdown",
   "source": [
    "Process dataset:"
   ],
   "metadata": {
    "collapsed": false
   }
  },
  {
   "cell_type": "code",
   "execution_count": 7,
   "outputs": [
    {
     "name": "stderr",
     "output_type": "stream",
     "text": [
      "/tmp/ipykernel_39535/1754923540.py:1: FutureWarning: The frame.append method is deprecated and will be removed from pandas in a future version. Use pandas.concat instead.\n",
      "  datasets.append(Dataset('train_all_test_wiki', datasets[0].train.append(datasets[1].train).append(datasets[2].train), datasets[0].test))\n"
     ]
    }
   ],
   "source": [
    "datasets.append(Dataset('train_all_test_wiki', datasets[0].train.append(datasets[1].train).append(datasets[2].train), datasets[0].test))"
   ],
   "metadata": {
    "collapsed": false
   }
  },
  {
   "cell_type": "code",
   "execution_count": 8,
   "outputs": [
    {
     "name": "stdout",
     "output_type": "stream",
     "text": [
      "# Rows train : 27299\n",
      "# Rows test : 694\n",
      "# Rows dataset : 27993\n",
      "# Sents train : 1988\n",
      "# Sents test : 53\n",
      "# Sents dataset : 2041\n"
     ]
    },
    {
     "name": "stderr",
     "output_type": "stream",
     "text": [
      "/tmp/ipykernel_39535/1722555504.py:9: FutureWarning: The frame.append method is deprecated and will be removed from pandas in a future version. Use pandas.concat instead.\n",
      "  dataset = dataset_sel.train.append(dataset_sel.test)\n"
     ]
    }
   ],
   "source": [
    "# Append train and test set\n",
    "dataset_sel = datasets[3]\n",
    "train_num_rows = dataset_sel.train.shape[0]\n",
    "train_num_sents = len(list(set(dataset_sel.train.sentence.values.tolist())))\n",
    "\n",
    "test_num_rows = dataset_sel.test.shape[0]\n",
    "test_num_sents = len(list(set(dataset_sel.test.sentence.values.tolist())))\n",
    "\n",
    "dataset = dataset_sel.train.append(dataset_sel.test)\n",
    "dataset['sent_id'] = dataset.groupby('sentence').ngroup()\n",
    "dataset_num_rows = dataset.shape[0]\n",
    "dataset_num_sents = len(list(set(dataset.sentence.values.tolist())))\n",
    "\n",
    "print('# Rows train : {}'.format(train_num_rows))\n",
    "print('# Rows test : {}'.format(test_num_rows))\n",
    "print('# Rows dataset : {}'.format(dataset_num_rows))\n",
    "\n",
    "print('# Sents train : {}'.format(train_num_sents))\n",
    "print('# Sents test : {}'.format(test_num_sents))\n",
    "print('# Sents dataset : {}'.format(dataset_num_sents))"
   ],
   "metadata": {
    "collapsed": false
   }
  },
  {
   "cell_type": "markdown",
   "source": [],
   "metadata": {
    "collapsed": false
   }
  },
  {
   "cell_type": "code",
   "execution_count": 9,
   "outputs": [
    {
     "data": {
      "text/plain": "                                 id  \\\n0    3XU9MCX6VODXPI3L8I02CM94TFB2R7   \n1    3XU9MCX6VODXPI3L8I02CM94TFB2R7   \n2    3XU9MCX6VODXPI3L8I02CM94TFB2R7   \n3    3XU9MCX6VODXPI3L8I02CM94TFB2R7   \n4    3XU9MCX6VODXPI3L8I02CM94TFB2R7   \n..                              ...   \n689  3W0KKJIARRAMOTSFYF06L10TKN9K8Z   \n690  3W0KKJIARRAMOTSFYF06L10TKN9K8Z   \n691  3W0KKJIARRAMOTSFYF06L10TKN9K8Z   \n692  3W0KKJIARRAMOTSFYF06L10TKN9K8Z   \n693  3W0KKJIARRAMOTSFYF06L10TKN9K8Z   \n\n                                                                                                                                             sentence  \\\n0    Normally , the land will be passed down to future generations in a way that recognizes the community 's traditional connection to that country .   \n1    Normally , the land will be passed down to future generations in a way that recognizes the community 's traditional connection to that country .   \n2    Normally , the land will be passed down to future generations in a way that recognizes the community 's traditional connection to that country .   \n3    Normally , the land will be passed down to future generations in a way that recognizes the community 's traditional connection to that country .   \n4    Normally , the land will be passed down to future generations in a way that recognizes the community 's traditional connection to that country .   \n..                                                                                                                                                ...   \n689             Devotion ( Bhakti ) will cancel the effects of bad Karma and will bring a person closer to the true knowledge by purifying his mind .   \n690             Devotion ( Bhakti ) will cancel the effects of bad Karma and will bring a person closer to the true knowledge by purifying his mind .   \n691             Devotion ( Bhakti ) will cancel the effects of bad Karma and will bring a person closer to the true knowledge by purifying his mind .   \n692             Devotion ( Bhakti ) will cancel the effects of bad Karma and will bring a person closer to the true knowledge by purifying his mind .   \n693             Devotion ( Bhakti ) will cancel the effects of bad Karma and will bring a person closer to the true knowledge by purifying his mind .   \n\n     start  end              target  nat  non_nat  nat_marked  non_nat_marked  \\\n0        0    8            Normally   10       10           0               1   \n1       28   34              passed   10       10           0               1   \n2       15   19                land   10       10           0               0   \n3       43   49              future   10       10           1               0   \n4       43   61  future generations   10       10           1               2   \n..     ...  ...                 ...  ...      ...         ...             ...   \n689    100  109           knowledge   10       10           0               2   \n690     74   80              person   10       10           0               0   \n691     95   99                true   10       10           0               0   \n692    113  122           purifying   10       10           7               8   \n693    127  131                mind   10       10           0               1   \n\n     binary  prob  sent_id  \n0         1  0.05     1347  \n1         1  0.05     1347  \n2         0  0.00     1347  \n3         1  0.05     1347  \n4         1  0.15     1347  \n..      ...   ...      ...  \n689       1  0.10      929  \n690       0  0.00      929  \n691       0  0.00      929  \n692       1  0.75      929  \n693       1  0.05      929  \n\n[27993 rows x 12 columns]",
      "text/html": "<div>\n<style scoped>\n    .dataframe tbody tr th:only-of-type {\n        vertical-align: middle;\n    }\n\n    .dataframe tbody tr th {\n        vertical-align: top;\n    }\n\n    .dataframe thead th {\n        text-align: right;\n    }\n</style>\n<table border=\"1\" class=\"dataframe\">\n  <thead>\n    <tr style=\"text-align: right;\">\n      <th></th>\n      <th>id</th>\n      <th>sentence</th>\n      <th>start</th>\n      <th>end</th>\n      <th>target</th>\n      <th>nat</th>\n      <th>non_nat</th>\n      <th>nat_marked</th>\n      <th>non_nat_marked</th>\n      <th>binary</th>\n      <th>prob</th>\n      <th>sent_id</th>\n    </tr>\n  </thead>\n  <tbody>\n    <tr>\n      <th>0</th>\n      <td>3XU9MCX6VODXPI3L8I02CM94TFB2R7</td>\n      <td>Normally , the land will be passed down to future generations in a way that recognizes the community 's traditional connection to that country .</td>\n      <td>0</td>\n      <td>8</td>\n      <td>Normally</td>\n      <td>10</td>\n      <td>10</td>\n      <td>0</td>\n      <td>1</td>\n      <td>1</td>\n      <td>0.05</td>\n      <td>1347</td>\n    </tr>\n    <tr>\n      <th>1</th>\n      <td>3XU9MCX6VODXPI3L8I02CM94TFB2R7</td>\n      <td>Normally , the land will be passed down to future generations in a way that recognizes the community 's traditional connection to that country .</td>\n      <td>28</td>\n      <td>34</td>\n      <td>passed</td>\n      <td>10</td>\n      <td>10</td>\n      <td>0</td>\n      <td>1</td>\n      <td>1</td>\n      <td>0.05</td>\n      <td>1347</td>\n    </tr>\n    <tr>\n      <th>2</th>\n      <td>3XU9MCX6VODXPI3L8I02CM94TFB2R7</td>\n      <td>Normally , the land will be passed down to future generations in a way that recognizes the community 's traditional connection to that country .</td>\n      <td>15</td>\n      <td>19</td>\n      <td>land</td>\n      <td>10</td>\n      <td>10</td>\n      <td>0</td>\n      <td>0</td>\n      <td>0</td>\n      <td>0.00</td>\n      <td>1347</td>\n    </tr>\n    <tr>\n      <th>3</th>\n      <td>3XU9MCX6VODXPI3L8I02CM94TFB2R7</td>\n      <td>Normally , the land will be passed down to future generations in a way that recognizes the community 's traditional connection to that country .</td>\n      <td>43</td>\n      <td>49</td>\n      <td>future</td>\n      <td>10</td>\n      <td>10</td>\n      <td>1</td>\n      <td>0</td>\n      <td>1</td>\n      <td>0.05</td>\n      <td>1347</td>\n    </tr>\n    <tr>\n      <th>4</th>\n      <td>3XU9MCX6VODXPI3L8I02CM94TFB2R7</td>\n      <td>Normally , the land will be passed down to future generations in a way that recognizes the community 's traditional connection to that country .</td>\n      <td>43</td>\n      <td>61</td>\n      <td>future generations</td>\n      <td>10</td>\n      <td>10</td>\n      <td>1</td>\n      <td>2</td>\n      <td>1</td>\n      <td>0.15</td>\n      <td>1347</td>\n    </tr>\n    <tr>\n      <th>...</th>\n      <td>...</td>\n      <td>...</td>\n      <td>...</td>\n      <td>...</td>\n      <td>...</td>\n      <td>...</td>\n      <td>...</td>\n      <td>...</td>\n      <td>...</td>\n      <td>...</td>\n      <td>...</td>\n      <td>...</td>\n    </tr>\n    <tr>\n      <th>689</th>\n      <td>3W0KKJIARRAMOTSFYF06L10TKN9K8Z</td>\n      <td>Devotion ( Bhakti ) will cancel the effects of bad Karma and will bring a person closer to the true knowledge by purifying his mind .</td>\n      <td>100</td>\n      <td>109</td>\n      <td>knowledge</td>\n      <td>10</td>\n      <td>10</td>\n      <td>0</td>\n      <td>2</td>\n      <td>1</td>\n      <td>0.10</td>\n      <td>929</td>\n    </tr>\n    <tr>\n      <th>690</th>\n      <td>3W0KKJIARRAMOTSFYF06L10TKN9K8Z</td>\n      <td>Devotion ( Bhakti ) will cancel the effects of bad Karma and will bring a person closer to the true knowledge by purifying his mind .</td>\n      <td>74</td>\n      <td>80</td>\n      <td>person</td>\n      <td>10</td>\n      <td>10</td>\n      <td>0</td>\n      <td>0</td>\n      <td>0</td>\n      <td>0.00</td>\n      <td>929</td>\n    </tr>\n    <tr>\n      <th>691</th>\n      <td>3W0KKJIARRAMOTSFYF06L10TKN9K8Z</td>\n      <td>Devotion ( Bhakti ) will cancel the effects of bad Karma and will bring a person closer to the true knowledge by purifying his mind .</td>\n      <td>95</td>\n      <td>99</td>\n      <td>true</td>\n      <td>10</td>\n      <td>10</td>\n      <td>0</td>\n      <td>0</td>\n      <td>0</td>\n      <td>0.00</td>\n      <td>929</td>\n    </tr>\n    <tr>\n      <th>692</th>\n      <td>3W0KKJIARRAMOTSFYF06L10TKN9K8Z</td>\n      <td>Devotion ( Bhakti ) will cancel the effects of bad Karma and will bring a person closer to the true knowledge by purifying his mind .</td>\n      <td>113</td>\n      <td>122</td>\n      <td>purifying</td>\n      <td>10</td>\n      <td>10</td>\n      <td>7</td>\n      <td>8</td>\n      <td>1</td>\n      <td>0.75</td>\n      <td>929</td>\n    </tr>\n    <tr>\n      <th>693</th>\n      <td>3W0KKJIARRAMOTSFYF06L10TKN9K8Z</td>\n      <td>Devotion ( Bhakti ) will cancel the effects of bad Karma and will bring a person closer to the true knowledge by purifying his mind .</td>\n      <td>127</td>\n      <td>131</td>\n      <td>mind</td>\n      <td>10</td>\n      <td>10</td>\n      <td>0</td>\n      <td>1</td>\n      <td>1</td>\n      <td>0.05</td>\n      <td>929</td>\n    </tr>\n  </tbody>\n</table>\n<p>27993 rows × 12 columns</p>\n</div>"
     },
     "execution_count": 9,
     "metadata": {},
     "output_type": "execute_result"
    }
   ],
   "source": [
    "dataset"
   ],
   "metadata": {
    "collapsed": false
   }
  },
  {
   "cell_type": "code",
   "execution_count": 10,
   "outputs": [
    {
     "data": {
      "text/plain": "49815"
     },
     "execution_count": 10,
     "metadata": {},
     "output_type": "execute_result"
    }
   ],
   "source": [
    "wordlist_lowercased = set(i.lower() for i in brown.words())\n",
    "len(wordlist_lowercased)"
   ],
   "metadata": {
    "collapsed": false
   }
  },
  {
   "cell_type": "code",
   "execution_count": 11,
   "outputs": [],
   "source": [
    "def forward_transformation(dataframe, lowercase = True, filter_punc = True, filtering = \"a132\"):\n",
    "    grouped = dataframe.groupby('sentence').apply(lambda row :\n",
    "                        {'sent_id' : list(set(row['sent_id']))[0],\n",
    "                         'sentence' : list(set(row['sentence']))[0],\n",
    "                         'tags': [tag for tag in zip(row['target'], row['start'], row['end'], row['binary'], row['prob'])]})\n",
    "    sentences = []\n",
    "    for vals in grouped:\n",
    "        sent_id = vals['sent_id']\n",
    "        sentence = vals['sentence']\n",
    "        tags = vals['tags']\n",
    "        tags_without_labels = [(word, start, end) for word, start, end, binary, prob in tags]\n",
    "        all_tokens = all_tokens_with_index(sentence)\n",
    "        sent_repr = [(word, start, end, tags[tags_without_labels.index((word, start, end))][3], tags[tags_without_labels.index((word, start, end))][4])\n",
    "                     if (word, start, end) in tags_without_labels\n",
    "                     else (word, start, end, 0, 0.0)\n",
    "                     for word, index, start, end in all_tokens]\n",
    "        if lowercase:\n",
    "            sent_repr = [(word.lower(), start, end, binary, prob) for word, start, end, binary, prob in sent_repr]\n",
    "        if filter_punc:\n",
    "            sent_repr = list(filter(lambda vals : remove_punctuation(vals[0]), sent_repr))\n",
    "        if filtering:\n",
    "            sent_repr = list(filter(lambda vals : vals[0] != \"'s\", sent_repr))\n",
    "            sent_repr = list(filter(lambda vals : vals[0] != \"``\", sent_repr))\n",
    "        sentences.append({'sent_id' : sent_id, 'sentence' : sentence, 'seq' : sent_repr})\n",
    "    return sentences\n",
    "\n",
    "tbl = dict.fromkeys(i for i in range(sys.maxunicode) if unicodedata.category(chr(i)).startswith('P'))\n",
    "\n",
    "@lru_cache(maxsize=None)\n",
    "def all_tokens_with_index(context):\n",
    "    curr_pos = 0\n",
    "    targets = []\n",
    "    j = 0\n",
    "    w = 0\n",
    "    curr_split = ''\n",
    "    ctx_split = context.split()\n",
    "    whitespaces = re.findall('\\s+', context)\n",
    "    num_whitespaces = [len(token) for token in whitespaces]\n",
    "    num_whitespaces.append(1)\n",
    "    tokens = word_tokenize(context)\n",
    "    tokens = ['\"' if token not in context else token for token in tokens]\n",
    "    for index, token in enumerate(tokens, 1):\n",
    "        targets.append((token, index, curr_pos, (curr_pos + len(token))))\n",
    "        curr_pos += len(token)\n",
    "        curr_split += token\n",
    "        if ctx_split[j] == curr_split:\n",
    "            curr_pos += num_whitespaces[w]\n",
    "            j += 1\n",
    "            w += 1\n",
    "            curr_split = ''\n",
    "    return [val for val in targets if val[0] != '\"']\n",
    "\n",
    "def remove_punctuation(text):\n",
    "    return text.translate(tbl)\n",
    "\n",
    "def split_sentence_seqs(sentences):\n",
    "    words, start_end, binary, prob = [], [], [] ,[]\n",
    "    for sent in sentences:\n",
    "        sequence = sent['seq']\n",
    "        curr_w, curr_se, curr_b, curr_p = map(list, zip(*[(vals[0],\n",
    "            (vals[1], vals[2]), vals[3], vals[4]) for vals in sequence]))\n",
    "        words.append(curr_w)\n",
    "        start_end.append(curr_se)\n",
    "        binary.append(curr_b)\n",
    "        prob.append(curr_p)\n",
    "    return words, start_end, binary, prob\n",
    "\n",
    "def build_vocabulary(sentences, embedding_model, dimension):\n",
    "    all_words = [tpl[0] for sentence in sentences for tpl in sentence['seq']] + list(wordlist_lowercased)\n",
    "    print('# Words : {}'.format(len(all_words)))\n",
    "    counter = Counter(all_words)\n",
    "    vocab_size = len(counter) + 1\n",
    "    print('# Vocab : {}'.format(vocab_size))\n",
    "    print('# embeding model  : {}'.format(len(embedding_model.index_to_key)))\n",
    "    word2index = {word : index for index, (word, count) in enumerate(counter.most_common(), 1)}\n",
    "    index2word = {index : word for word, index in word2index.items()}\n",
    "    # +1 required for pad token\n",
    "    embedding_matrix = np.zeros(((vocab_size), dimension))\n",
    "    missing_embed_words = []\n",
    "    i_ = 0\n",
    "    for word, index in word2index.items():\n",
    "        if word in embedding_model.index_to_key:\n",
    "            embedding = embedding_model[word]\n",
    "        else:\n",
    "             i_ +=1\n",
    "             continue\n",
    "        embedding_matrix[index] = embedding\n",
    "    missing_embed_count = len(missing_embed_words)\n",
    "    print('# Words missing embedding : {}'.format(missing_embed_count))\n",
    "    print('Embedding shape : {}'.format(embedding_matrix.shape))\n",
    "    print(\"i: \", i_ )\n",
    "    return word2index, index2word, embedding_matrix"
   ],
   "metadata": {
    "collapsed": false
   }
  },
  {
   "cell_type": "code",
   "execution_count": 12,
   "outputs": [],
   "source": [
    "sentences = forward_transformation(dataset)\n",
    "train_sentences = sentences[:train_num_sents]\n",
    "test_sentences = sentences[train_num_sents:]"
   ],
   "metadata": {
    "collapsed": false
   }
  },
  {
   "cell_type": "code",
   "execution_count": 13,
   "outputs": [],
   "source": [
    "words, start_end, binary, prob = split_sentence_seqs(sentences)"
   ],
   "metadata": {
    "collapsed": false
   }
  },
  {
   "cell_type": "code",
   "execution_count": 14,
   "outputs": [],
   "source": [
    "sentence_lens = [len(sent) for sent in words]"
   ],
   "metadata": {
    "collapsed": false
   }
  },
  {
   "cell_type": "markdown",
   "source": [
    "The dimensions of the embedding and vectors for the model:"
   ],
   "metadata": {
    "collapsed": false
   }
  },
  {
   "cell_type": "code",
   "execution_count": 15,
   "outputs": [
    {
     "name": "stdout",
     "output_type": "stream",
     "text": [
      "# Words : 96437\n",
      "# Vocab : 52455\n",
      "# embeding model  : 400000\n",
      "# Words missing embedding : 0\n",
      "Embedding shape : (52455, 300)\n",
      "i:  9834\n"
     ]
    }
   ],
   "source": [
    "embedding_model = glove_models[0].model\n",
    "dimension = embedding_model.vector_size\n",
    "word2index, index2word, embedding = build_vocabulary(sentences, embedding_model, dimension)"
   ],
   "metadata": {
    "collapsed": false
   }
  },
  {
   "cell_type": "markdown",
   "source": [
    "Padding the input sequences and get the binaries labels:"
   ],
   "metadata": {
    "collapsed": false
   }
  },
  {
   "cell_type": "code",
   "execution_count": 16,
   "outputs": [
    {
     "name": "stdout",
     "output_type": "stream",
     "text": [
      "Max length sentence : 103\n"
     ]
    },
    {
     "name": "stderr",
     "output_type": "stream",
     "text": [
      "2022-12-02 00:17:07.653444: I tensorflow/core/platform/cpu_feature_guard.cc:193] This TensorFlow binary is optimized with oneAPI Deep Neural Network Library (oneDNN) to use the following CPU instructions in performance-critical operations:  AVX2 FMA\n",
      "To enable them in other operations, rebuild TensorFlow with the appropriate compiler flags.\n",
      "2022-12-02 00:17:08.134256: W tensorflow/compiler/xla/stream_executor/platform/default/dso_loader.cc:64] Could not load dynamic library 'libcudart.so.11.0'; dlerror: libcudart.so.11.0: cannot open shared object file: No such file or directory\n",
      "2022-12-02 00:17:08.134270: I tensorflow/compiler/xla/stream_executor/cuda/cudart_stub.cc:29] Ignore above cudart dlerror if you do not have a GPU set up on your machine.\n",
      "2022-12-02 00:17:09.459982: W tensorflow/compiler/xla/stream_executor/platform/default/dso_loader.cc:64] Could not load dynamic library 'libnvinfer.so.7'; dlerror: libnvinfer.so.7: cannot open shared object file: No such file or directory\n",
      "2022-12-02 00:17:09.460306: W tensorflow/compiler/xla/stream_executor/platform/default/dso_loader.cc:64] Could not load dynamic library 'libnvinfer_plugin.so.7'; dlerror: libnvinfer_plugin.so.7: cannot open shared object file: No such file or directory\n",
      "2022-12-02 00:17:09.460315: W tensorflow/compiler/tf2tensorrt/utils/py_utils.cc:38] TF-TRT Warning: Cannot dlopen some TensorRT libraries. If you would like to use Nvidia GPU with TensorRT, please make sure the missing libraries mentioned above are installed properly.\n"
     ]
    }
   ],
   "source": [
    "words_with_indices = [[word2index[word] for word in sent] for sent in words]\n",
    "sent_lens = [len(sentence['seq']) for sentence in sentences]\n",
    "sent_max_length = np.max(sent_lens)\n",
    "print('Max length sentence : {}'.format(sent_max_length))\n",
    "\n",
    "from tensorflow.keras.preprocessing.sequence import pad_sequences\n",
    "from tensorflow.keras.utils import to_categorical\n",
    "\n",
    "words_padded = pad_sequences(maxlen=sent_max_length, sequences=words_with_indices, padding=\"post\", value=0)\n",
    "binary_padded = pad_sequences(maxlen=sent_max_length, sequences=binary, padding=\"post\", value=0)\n",
    "prob_padded = pad_sequences(maxlen=sent_max_length, sequences=prob, padding=\"post\", value=0, dtype=\"float\")\n",
    "\n",
    "binary_padded_categorical = [to_categorical(clazz, num_classes=2) for clazz in binary_padded]"
   ],
   "metadata": {
    "collapsed": false
   }
  },
  {
   "cell_type": "markdown",
   "source": [
    "Split the to train and test set:"
   ],
   "metadata": {
    "collapsed": false
   }
  },
  {
   "cell_type": "code",
   "execution_count": 17,
   "outputs": [
    {
     "name": "stdout",
     "output_type": "stream",
     "text": [
      "Training set length : 1988\n",
      "Test set length : 53\n"
     ]
    }
   ],
   "source": [
    "# (1) Training set\n",
    "train_words_padded = words_padded[:train_num_sents]\n",
    "train_binary_padded = binary_padded[:train_num_sents]\n",
    "train_binary_padded_categorical = binary_padded_categorical[:train_num_sents]\n",
    "train_prob_padded = prob_padded[:train_num_sents]\n",
    "train_start_end = start_end[:train_num_sents]\n",
    "\n",
    "# (2) Test set\n",
    "test_words_padded = words_padded[train_num_sents:]\n",
    "test_binary_padded = binary_padded[train_num_sents:]\n",
    "test_binary_padded_categorical = binary_padded_categorical[train_num_sents:]\n",
    "test_prob_padded = prob_padded[train_num_sents:]\n",
    "test_start_end = start_end[train_num_sents:]\n",
    "\n",
    "print('Training set length : {}'.format(len(train_words_padded)))\n",
    "print('Test set length : {}'.format(len(test_words_padded)))"
   ],
   "metadata": {
    "collapsed": false
   }
  },
  {
   "cell_type": "markdown",
   "source": [
    "Create a kera's callback to validate the model on train:"
   ],
   "metadata": {
    "collapsed": false
   }
  },
  {
   "cell_type": "code",
   "execution_count": 18,
   "outputs": [],
   "source": [
    "from sklearn.metrics import f1_score\n",
    "import keras.callbacks\n",
    "\n",
    "class Metrics(keras.callbacks.Callback):\n",
    "    def __init__(self, validation_data):\n",
    "        self.f1_scores = []\n",
    "        self.validation_data = validation_data\n",
    "\n",
    "    def on_epoch_end(self, batch, logs={}):\n",
    "        predict = np.asarray(self.model.predict(self.validation_data[0]))\n",
    "        targ = self.validation_data[1]\n",
    "        targ = np.array(targ)\n",
    "        shape = targ.shape\n",
    "        targ = targ.reshape((shape[0]*shape[1], shape[2]))\n",
    "        targ = np.argmax(targ, axis = 1)\n",
    "        predict = predict.reshape((shape[0]*shape[1]), shape[2])\n",
    "        predict = np.argmax(predict, axis = 1)\n",
    "        self.f1s=f1_score(targ, predict)\n",
    "        print(\"\\nF1 Score:\")\n",
    "        print(f1_score(targ, np.ones(shape[0]*shape[1])))\n",
    "        self.f1_scores.append(self.f1s)\n",
    "        return"
   ],
   "metadata": {
    "collapsed": false
   }
  },
  {
   "cell_type": "markdown",
   "source": [
    "Create the keras model for the Complex Word Identification task:"
   ],
   "metadata": {
    "collapsed": false
   }
  },
  {
   "cell_type": "code",
   "execution_count": 19,
   "outputs": [
    {
     "name": "stderr",
     "output_type": "stream",
     "text": [
      "2022-12-02 00:17:10.541114: W tensorflow/compiler/xla/stream_executor/platform/default/dso_loader.cc:64] Could not load dynamic library 'libcuda.so.1'; dlerror: libcuda.so.1: cannot open shared object file: No such file or directory\n",
      "2022-12-02 00:17:10.541136: W tensorflow/compiler/xla/stream_executor/cuda/cuda_driver.cc:265] failed call to cuInit: UNKNOWN ERROR (303)\n",
      "2022-12-02 00:17:10.541154: I tensorflow/compiler/xla/stream_executor/cuda/cuda_diagnostics.cc:156] kernel driver does not appear to be running on this host (elghe-ASUS): /proc/driver/nvidia/version does not exist\n",
      "2022-12-02 00:17:10.541599: I tensorflow/core/platform/cpu_feature_guard.cc:193] This TensorFlow binary is optimized with oneAPI Deep Neural Network Library (oneDNN) to use the following CPU instructions in performance-critical operations:  AVX2 FMA\n",
      "To enable them in other operations, rebuild TensorFlow with the appropriate compiler flags.\n",
      "2022-12-02 00:17:10.580963: W tensorflow/tsl/framework/cpu_allocator_impl.cc:82] Allocation of 62946000 exceeds 10% of free system memory.\n",
      "2022-12-02 00:17:10.616903: W tensorflow/tsl/framework/cpu_allocator_impl.cc:82] Allocation of 62946000 exceeds 10% of free system memory.\n",
      "2022-12-02 00:17:10.630294: W tensorflow/tsl/framework/cpu_allocator_impl.cc:82] Allocation of 62946000 exceeds 10% of free system memory.\n",
      "2022-12-02 00:17:10.710858: W tensorflow/tsl/framework/cpu_allocator_impl.cc:82] Allocation of 62946000 exceeds 10% of free system memory.\n"
     ]
    },
    {
     "name": "stdout",
     "output_type": "stream",
     "text": [
      "Model: \"model\"\n",
      "_________________________________________________________________\n",
      " Layer (type)                Output Shape              Param #   \n",
      "=================================================================\n",
      " input_1 (InputLayer)        [(None, 103)]             0         \n",
      "                                                                 \n",
      " embedding (Embedding)       (None, 103, 300)          15736500  \n",
      "                                                                 \n",
      " dropout (Dropout)           (None, 103, 300)          0         \n",
      "                                                                 \n",
      " bidirectional (Bidirectiona  (None, 103, 300)         541200    \n",
      " l)                                                              \n",
      "                                                                 \n",
      " time_distributed (TimeDistr  (None, 103, 2)           602       \n",
      " ibuted)                                                         \n",
      "                                                                 \n",
      "=================================================================\n",
      "Total params: 16,278,302\n",
      "Trainable params: 16,278,302\n",
      "Non-trainable params: 0\n",
      "_________________________________________________________________\n"
     ]
    }
   ],
   "source": [
    "from tensorflow.keras.models import Model\n",
    "from tensorflow.keras.layers import LSTM, Embedding, Dense, TimeDistributed, Dropout, Bidirectional, Input\n",
    "\n",
    "vocab_size = embedding.shape[0]\n",
    "dimension = embedding.shape[1]\n",
    "\n",
    "np.set_printoptions(threshold=np.inf)\n",
    "\n",
    "in_seq = Input(shape=(sent_max_length,))\n",
    "embed = Embedding(input_dim=vocab_size, output_dim=dimension, weights=[embedding], input_length=sent_max_length)(in_seq)\n",
    "drop = Dropout(0.1)(embed)\n",
    "lstm = Bidirectional(LSTM(units=150, return_sequences=True, recurrent_dropout=0.1))(drop)\n",
    "out = TimeDistributed(Dense(2, activation=\"softmax\"))(lstm)\n",
    "\n",
    "model = Model(in_seq, out)\n",
    "\n",
    "model.compile(optimizer=\"adam\", loss='categorical_crossentropy', metrics=[\"accuracy\"])\n",
    "model.summary()\n",
    "\n",
    "metrics = Metrics((test_words_padded, np.array(test_binary_padded_categorical)))\n"
   ],
   "metadata": {
    "collapsed": false
   }
  },
  {
   "cell_type": "code",
   "execution_count": 20,
   "outputs": [
    {
     "name": "stdout",
     "output_type": "stream",
     "text": [
      "Epoch 1/3\n"
     ]
    },
    {
     "name": "stderr",
     "output_type": "stream",
     "text": [
      "2022-12-02 00:17:12.527883: W tensorflow/tsl/framework/cpu_allocator_impl.cc:82] Allocation of 62946000 exceeds 10% of free system memory.\n"
     ]
    },
    {
     "name": "stdout",
     "output_type": "stream",
     "text": [
      "2/2 [==============================] - 0s 65ms/step\n",
      "\n",
      "F1 Score:\n",
      "0.05660377358490566\n",
      "199/199 [==============================] - 98s 472ms/step - loss: 0.0850 - accuracy: 0.9681 - val_loss: 0.0456 - val_accuracy: 0.9802\n",
      "Epoch 2/3\n",
      "2/2 [==============================] - 0s 60ms/step\n",
      "\n",
      "F1 Score:\n",
      "0.05660377358490566\n",
      "199/199 [==============================] - 93s 467ms/step - loss: 0.0404 - accuracy: 0.9828 - val_loss: 0.0423 - val_accuracy: 0.9815\n",
      "Epoch 3/3\n",
      "2/2 [==============================] - 0s 69ms/step\n",
      "\n",
      "F1 Score:\n",
      "0.05660377358490566\n",
      "199/199 [==============================] - 91s 455ms/step - loss: 0.0302 - accuracy: 0.9874 - val_loss: 0.0448 - val_accuracy: 0.9811\n"
     ]
    }
   ],
   "source": [
    "history = model.fit(train_words_padded, np.array(train_binary_padded_categorical), batch_size=10,\n",
    "                    epochs=3, validation_data = (test_words_padded, np.array(test_binary_padded_categorical)),\n",
    "                    verbose=1, callbacks=[metrics])"
   ],
   "metadata": {
    "collapsed": false
   }
  },
  {
   "cell_type": "code",
   "execution_count": 21,
   "outputs": [
    {
     "data": {
      "text/plain": "<Figure size 640x480 with 1 Axes>",
      "image/png": "[encoded data removed]"
     },
     "metadata": {},
     "output_type": "display_data"
    }
   ],
   "source": [
    "plt.plot(history.history['loss'])\n",
    "plt.plot(history.history['val_loss'])\n",
    "plt.title('model loss')\n",
    "plt.ylabel('loss')\n",
    "plt.xlabel('epoch')\n",
    "plt.legend(['train', 'validation'], loc='upper left')\n",
    "plt.show()"
   ],
   "metadata": {
    "collapsed": false
   }
  },
  {
   "cell_type": "code",
   "execution_count": 22,
   "outputs": [
    {
     "data": {
      "text/plain": "<Figure size 640x480 with 1 Axes>",
      "image/png": "[encoded data removed]"
     },
     "metadata": {},
     "output_type": "display_data"
    }
   ],
   "source": [
    "sns.set_style(\"darkgrid\")\n",
    "epoch_f1s = plt.plot(metrics.f1_scores)\n",
    "plt.show()"
   ],
   "metadata": {
    "collapsed": false
   }
  },
  {
   "cell_type": "code",
   "execution_count": 23,
   "outputs": [],
   "source": [
    "# model_save_name = 'model_CWI.h5'\n",
    "# path_dir = f\"../model/{model_save_name}\"\n",
    "# model.save(path_dir)"
   ],
   "metadata": {
    "collapsed": false
   }
  }
 ],
 "metadata": {
  "kernelspec": {
   "display_name": "Python 3",
   "language": "python",
   "name": "python3"
  },
  "language_info": {
   "codemirror_mode": {
    "name": "ipython",
    "version": 2
   },
   "file_extension": ".py",
   "mimetype": "text/x-python",
   "name": "python",
   "nbconvert_exporter": "python",
   "pygments_lexer": "ipython2",
   "version": "2.7.6"
  }
 },
 "nbformat": 4,
 "nbformat_minor": 0
}
